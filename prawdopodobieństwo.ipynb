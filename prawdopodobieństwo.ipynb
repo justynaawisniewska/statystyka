{
 "cells": [
  {
   "cell_type": "code",
   "execution_count": 50,
   "id": "4c6dfb10",
   "metadata": {},
   "outputs": [],
   "source": [
    "import numpy as np\n",
    "import pandas as pd\n",
    "import matplotlib.pyplot as plt\n",
    "import seaborn as sns\n",
    "from scipy import stats"
   ]
  },
  {
   "cell_type": "code",
   "execution_count": 63,
   "id": "76e0ab46",
   "metadata": {},
   "outputs": [
    {
     "data": {
      "text/html": [
       "<div>\n",
       "<style scoped>\n",
       "    .dataframe tbody tr th:only-of-type {\n",
       "        vertical-align: middle;\n",
       "    }\n",
       "\n",
       "    .dataframe tbody tr th {\n",
       "        vertical-align: top;\n",
       "    }\n",
       "\n",
       "    .dataframe thead th {\n",
       "        text-align: right;\n",
       "    }\n",
       "</style>\n",
       "<table border=\"1\" class=\"dataframe\">\n",
       "  <thead>\n",
       "    <tr style=\"text-align: right;\">\n",
       "      <th></th>\n",
       "      <th>value</th>\n",
       "    </tr>\n",
       "  </thead>\n",
       "  <tbody>\n",
       "    <tr>\n",
       "      <th>0</th>\n",
       "      <td>3.618714</td>\n",
       "    </tr>\n",
       "    <tr>\n",
       "      <th>1</th>\n",
       "      <td>4.753596</td>\n",
       "    </tr>\n",
       "    <tr>\n",
       "      <th>2</th>\n",
       "      <td>0.504576</td>\n",
       "    </tr>\n",
       "    <tr>\n",
       "      <th>3</th>\n",
       "      <td>2.281139</td>\n",
       "    </tr>\n",
       "    <tr>\n",
       "      <th>4</th>\n",
       "      <td>3.480450</td>\n",
       "    </tr>\n",
       "  </tbody>\n",
       "</table>\n",
       "</div>"
      ],
      "text/plain": [
       "      value\n",
       "0  3.618714\n",
       "1  4.753596\n",
       "2  0.504576\n",
       "3  2.281139\n",
       "4  3.480450"
      ]
     },
     "execution_count": 63,
     "metadata": {},
     "output_type": "execute_result"
    }
   ],
   "source": [
    "normalVar = pd.DataFrame(np.random.normal(3,1,100))\n",
    "normalVar.columns = ['value']\n",
    "normalVar.head()"
   ]
  },
  {
   "cell_type": "code",
   "execution_count": 71,
   "id": "e870f42f",
   "metadata": {
    "scrolled": false
   },
   "outputs": [
    {
     "data": {
      "image/png": "[encoded data removed]",
      "text/plain": [
       "<Figure size 588x500 with 1 Axes>"
      ]
     },
     "metadata": {},
     "output_type": "display_data"
    }
   ],
   "source": [
    "sns.displot(normalVar, kde=True)\n",
    "plt.show()"
   ]
  },
  {
   "cell_type": "markdown",
   "id": "6480b02f",
   "metadata": {},
   "source": [
    "Patrząc na powyższy wykres możemy zauważyć że lewe ramię jest delikatnie wydłużone"
   ]
  },
  {
   "cell_type": "code",
   "execution_count": 87,
   "id": "e5862411",
   "metadata": {},
   "outputs": [
    {
     "data": {
      "text/plain": [
       "value    3.00855\n",
       "dtype: float64"
      ]
     },
     "execution_count": 87,
     "metadata": {},
     "output_type": "execute_result"
    }
   ],
   "source": [
    "normalVar.mean()"
   ]
  },
  {
   "cell_type": "markdown",
   "id": "5e846c0b",
   "metadata": {},
   "source": [
    "Średnia wynosi 3.00855\n"
   ]
  },
  {
   "cell_type": "code",
   "execution_count": 88,
   "id": "00da2ae8",
   "metadata": {},
   "outputs": [
    {
     "data": {
      "text/plain": [
       "value    3.007728\n",
       "dtype: float64"
      ]
     },
     "execution_count": 88,
     "metadata": {},
     "output_type": "execute_result"
    }
   ],
   "source": [
    "normalVar.median()"
   ]
  },
  {
   "cell_type": "markdown",
   "id": "cc660e06",
   "metadata": {},
   "source": [
    "Mediana wynosi 3.007728"
   ]
  },
  {
   "cell_type": "code",
   "execution_count": 89,
   "id": "afe84e4c",
   "metadata": {},
   "outputs": [
    {
     "data": {
      "text/plain": [
       "ModeResult(mode=array([-0.54424127]), count=array([1.]))"
      ]
     },
     "execution_count": 89,
     "metadata": {},
     "output_type": "execute_result"
    }
   ],
   "source": [
    "normalVar_mode = stats.mode(normalVar)\n",
    "normalVar_mode"
   ]
  },
  {
   "cell_type": "code",
   "execution_count": 90,
   "id": "4d8d87a3",
   "metadata": {},
   "outputs": [
    {
     "data": {
      "text/html": [
       "<div>\n",
       "<style scoped>\n",
       "    .dataframe tbody tr th:only-of-type {\n",
       "        vertical-align: middle;\n",
       "    }\n",
       "\n",
       "    .dataframe tbody tr th {\n",
       "        vertical-align: top;\n",
       "    }\n",
       "\n",
       "    .dataframe thead th {\n",
       "        text-align: right;\n",
       "    }\n",
       "</style>\n",
       "<table border=\"1\" class=\"dataframe\">\n",
       "  <thead>\n",
       "    <tr style=\"text-align: right;\">\n",
       "      <th></th>\n",
       "      <th>value</th>\n",
       "    </tr>\n",
       "  </thead>\n",
       "  <tbody>\n",
       "    <tr>\n",
       "      <th>mean</th>\n",
       "      <td>3.008550</td>\n",
       "    </tr>\n",
       "    <tr>\n",
       "      <th>median</th>\n",
       "      <td>3.007728</td>\n",
       "    </tr>\n",
       "  </tbody>\n",
       "</table>\n",
       "</div>"
      ],
      "text/plain": [
       "           value\n",
       "mean    3.008550\n",
       "median  3.007728"
      ]
     },
     "execution_count": 90,
     "metadata": {},
     "output_type": "execute_result"
    }
   ],
   "source": [
    "normalVar.agg(['mean', 'median'])\n"
   ]
  },
  {
   "cell_type": "markdown",
   "id": "d7ab98ed",
   "metadata": {},
   "source": [
    "Średnia jest nieco większa niż mediana\n"
   ]
  },
  {
   "cell_type": "code",
   "execution_count": 75,
   "id": "3a50d948",
   "metadata": {},
   "outputs": [
    {
     "data": {
      "text/html": [
       "<div>\n",
       "<style scoped>\n",
       "    .dataframe tbody tr th:only-of-type {\n",
       "        vertical-align: middle;\n",
       "    }\n",
       "\n",
       "    .dataframe tbody tr th {\n",
       "        vertical-align: top;\n",
       "    }\n",
       "\n",
       "    .dataframe thead th {\n",
       "        text-align: right;\n",
       "    }\n",
       "</style>\n",
       "<table border=\"1\" class=\"dataframe\">\n",
       "  <thead>\n",
       "    <tr style=\"text-align: right;\">\n",
       "      <th></th>\n",
       "      <th>value</th>\n",
       "    </tr>\n",
       "  </thead>\n",
       "  <tbody>\n",
       "    <tr>\n",
       "      <th>0</th>\n",
       "      <td>4.020210</td>\n",
       "    </tr>\n",
       "    <tr>\n",
       "      <th>1</th>\n",
       "      <td>3.306481</td>\n",
       "    </tr>\n",
       "    <tr>\n",
       "      <th>2</th>\n",
       "      <td>1.421945</td>\n",
       "    </tr>\n",
       "    <tr>\n",
       "      <th>3</th>\n",
       "      <td>3.611479</td>\n",
       "    </tr>\n",
       "    <tr>\n",
       "      <th>4</th>\n",
       "      <td>3.512237</td>\n",
       "    </tr>\n",
       "  </tbody>\n",
       "</table>\n",
       "</div>"
      ],
      "text/plain": [
       "      value\n",
       "0  4.020210\n",
       "1  3.306481\n",
       "2  1.421945\n",
       "3  3.611479\n",
       "4  3.512237"
      ]
     },
     "execution_count": 75,
     "metadata": {},
     "output_type": "execute_result"
    }
   ],
   "source": [
    "normalVar2 = pd.DataFrame(np.random.normal(3,1,100000))\n",
    "normalVar.columns = ['value']\n",
    "normalVar.head()"
   ]
  },
  {
   "cell_type": "code",
   "execution_count": 76,
   "id": "aada125c",
   "metadata": {},
   "outputs": [
    {
     "data": {
      "image/png": "[encoded data removed]",
      "text/plain": [
       "<Figure size 558.75x500 with 1 Axes>"
      ]
     },
     "metadata": {},
     "output_type": "display_data"
    }
   ],
   "source": [
    "sns.displot(normalVar2, kde=True)\n",
    "plt.show()"
   ]
  },
  {
   "cell_type": "markdown",
   "id": "ae2d270e",
   "metadata": {},
   "source": [
    "Na powyższym wykresie możemy zauważyć że rozkład jest bardzo bliski rozkładowi normalnemu"
   ]
  },
  {
   "cell_type": "code",
   "execution_count": 83,
   "id": "b50f2506",
   "metadata": {},
   "outputs": [
    {
     "data": {
      "text/plain": [
       "ModeResult(mode=array([-0.54424127]), count=array([1.]))"
      ]
     },
     "execution_count": 83,
     "metadata": {},
     "output_type": "execute_result"
    }
   ],
   "source": [
    "normalVar_mode = stats.mode(normalVar)\n",
    "normalVar_mode"
   ]
  },
  {
   "cell_type": "code",
   "execution_count": 84,
   "id": "fc2a9cb9",
   "metadata": {},
   "outputs": [
    {
     "data": {
      "text/plain": [
       "0    2.998434\n",
       "dtype: float64"
      ]
     },
     "execution_count": 84,
     "metadata": {},
     "output_type": "execute_result"
    }
   ],
   "source": [
    "normalVar2.mean()\n"
   ]
  },
  {
   "cell_type": "markdown",
   "id": "61344f90",
   "metadata": {},
   "source": [
    "Średnia wynosi 2.998434"
   ]
  },
  {
   "cell_type": "code",
   "execution_count": 85,
   "id": "f56fd997",
   "metadata": {},
   "outputs": [
    {
     "data": {
      "text/plain": [
       "0    2.995841\n",
       "dtype: float64"
      ]
     },
     "execution_count": 85,
     "metadata": {},
     "output_type": "execute_result"
    }
   ],
   "source": [
    "normalVar2.median()\n"
   ]
  },
  {
   "cell_type": "markdown",
   "id": "d4e570e4",
   "metadata": {},
   "source": [
    "Mediana wynosi 2.995841"
   ]
  },
  {
   "cell_type": "code",
   "execution_count": 86,
   "id": "80228f62",
   "metadata": {},
   "outputs": [
    {
     "data": {
      "text/plain": [
       "ModeResult(mode=array([-1.30426568]), count=array([1.]))"
      ]
     },
     "execution_count": 86,
     "metadata": {},
     "output_type": "execute_result"
    }
   ],
   "source": [
    "normalVar2_mode = stats.mode(normalVar2)\n",
    "normalVar2_mode"
   ]
  },
  {
   "cell_type": "code",
   "execution_count": 92,
   "id": "b49786cd",
   "metadata": {},
   "outputs": [
    {
     "data": {
      "text/html": [
       "<div>\n",
       "<style scoped>\n",
       "    .dataframe tbody tr th:only-of-type {\n",
       "        vertical-align: middle;\n",
       "    }\n",
       "\n",
       "    .dataframe tbody tr th {\n",
       "        vertical-align: top;\n",
       "    }\n",
       "\n",
       "    .dataframe thead th {\n",
       "        text-align: right;\n",
       "    }\n",
       "</style>\n",
       "<table border=\"1\" class=\"dataframe\">\n",
       "  <thead>\n",
       "    <tr style=\"text-align: right;\">\n",
       "      <th></th>\n",
       "      <th>0</th>\n",
       "    </tr>\n",
       "  </thead>\n",
       "  <tbody>\n",
       "    <tr>\n",
       "      <th>mean</th>\n",
       "      <td>2.998434</td>\n",
       "    </tr>\n",
       "    <tr>\n",
       "      <th>median</th>\n",
       "      <td>2.995841</td>\n",
       "    </tr>\n",
       "  </tbody>\n",
       "</table>\n",
       "</div>"
      ],
      "text/plain": [
       "               0\n",
       "mean    2.998434\n",
       "median  2.995841"
      ]
     },
     "execution_count": 92,
     "metadata": {},
     "output_type": "execute_result"
    }
   ],
   "source": [
    "normalVar2.agg(['mean', 'median'])\n"
   ]
  },
  {
   "cell_type": "markdown",
   "id": "6173e0c9",
   "metadata": {},
   "source": [
    "Średnia i mediana są do siebie bardzo zbliżone co oznacza że zbiór jest bardzo bliski rozkładu normalnego"
   ]
  },
  {
   "cell_type": "markdown",
   "id": "16285951",
   "metadata": {},
   "source": [
    "Porównują oba zbiory, możemy założyć za drugi zbiór (normalVar2) jest bliższy rozkładowi normalnemu."
   ]
  },
  {
   "cell_type": "code",
   "execution_count": null,
   "id": "78e54744",
   "metadata": {},
   "outputs": [],
   "source": []
  }
 ],
 "metadata": {
  "kernelspec": {
   "display_name": "Python 3 (ipykernel)",
   "language": "python",
   "name": "python3"
  },
  "language_info": {
   "codemirror_mode": {
    "name": "ipython",
    "version": 3
   },
   "file_extension": ".py",
   "mimetype": "text/x-python",
   "name": "python",
   "nbconvert_exporter": "python",
   "pygments_lexer": "ipython3",
   "version": "3.9.2"
  }
 },
 "nbformat": 4,
 "nbformat_minor": 5
}
